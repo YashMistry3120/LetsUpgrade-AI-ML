{
 "cells": [
  {
   "cell_type": "markdown",
   "metadata": {},
   "source": [
    "# Question 1\n",
    "Research on whether addition, subtraction, multiplication, division, floor division and modulo\n",
    "operations be performed on complex numbers. Based on your study, implement a Python\n",
    "program to demonstrate these operations."
   ]
  },
  {
   "cell_type": "code",
   "execution_count": null,
   "metadata": {},
   "outputs": [],
   "source": [
    "a = complex(input())\n",
    "b = complex(input())\n",
    "print(\"Addition of two complex numbers : \",a+b)\n",
    "print(\"Subtraction of two complex numbers : \",a-b)\n",
    "print(\"Multiplication of two complex numbers : \",a*b)\n",
    "print(\"Division of two complex numbers : \",a/b)"
   ]
  },
  {
   "cell_type": "markdown",
   "metadata": {},
   "source": [
    "# Question 2\n",
    "Research on range() functions and its parameters. Create a markdown cell and write in your own\n",
    "words (no copy-paste from google please) what you understand about it. Implement a small\n",
    "program of your choice on the same."
   ]
  },
  {
   "cell_type": "markdown",
   "metadata": {},
   "source": [
    "## Python range() function\n",
    "range() is python built function and widely used function in Python, especially when you are working with predominantly for loops and sometimes with while loops. It returns a sequence of numbers and is immutable (whose value is fixed).\n",
    "\n",
    "Format of range() is: **range(constant)**\n",
    "\n",
    "**range(start_index, end_index, steps)**\n",
    "\n",
    "If start_index is not defined it'll start from index 0 and the iteration stop at (end_index -1)\n",
    "If step size is not defined then it's size is 1."
   ]
  },
  {
   "cell_type": "code",
   "execution_count": null,
   "metadata": {},
   "outputs": [],
   "source": [
    "type(range(100))"
   ]
  },
  {
   "cell_type": "code",
   "execution_count": null,
   "metadata": {},
   "outputs": [],
   "source": [
    "for i in range(10):\n",
    "  print(i,end=\" \")"
   ]
  },
  {
   "cell_type": "code",
   "execution_count": null,
   "metadata": {},
   "outputs": [],
   "source": [
    "for i in range(0,10):\n",
    "  print(i,end=\" \")"
   ]
  },
  {
   "cell_type": "code",
   "execution_count": null,
   "metadata": {},
   "outputs": [],
   "source": [
    "lst = [0,1,2,3,4,5,6,7,8,9]\n",
    "l = len(lst)\n",
    "for i in range(l):\n",
    "  print(i,end=\" \")"
   ]
  },
  {
   "cell_type": "markdown",
   "metadata": {},
   "source": [
    "# Question 3\n",
    "Consider two numbers. Perform their subtraction and if the result of subtraction is greater than\n",
    "25, print their multiplication result else print their division result."
   ]
  },
  {
   "cell_type": "code",
   "execution_count": null,
   "metadata": {},
   "outputs": [],
   "source": [
    "a = int(input())\n",
    "b = int(input())\n",
    "c = a - b\n",
    "print(\"Substraction of {} - {} = {}\".format(a,b,a-b))\n",
    "if (c>25):\n",
    "  print(\"Multiplication of {} * {} = {}\".format(a,b,a*b))\n",
    "else:\n",
    "  print(\"Divison of {} / {} = {}\".format(a,b,a/b))"
   ]
  },
  {
   "cell_type": "markdown",
   "metadata": {},
   "source": [
    "# Question 4\n",
    "Consider a list of 10 elements of integer values. If the number in the list is divisible by 2, print the\n",
    "result as \"square of that number minus 2\"."
   ]
  },
  {
   "cell_type": "code",
   "execution_count": null,
   "metadata": {},
   "outputs": [],
   "source": [
    "import random\n",
    "import math\n",
    "rndlst = []\n",
    "rndlst = random.sample(range(0, 30), 10)\n",
    "print(rndlst)\n",
    "for j in rndlst:\n",
    "  if(j%2 == 0):\n",
    "    k=pow(j,2)-2\n",
    "    print(\"Square of {} number is {} minus 2 is {}\".format(j,j**2,k))"
   ]
  },
  {
   "cell_type": "markdown",
   "metadata": {},
   "source": [
    "# Question 5\n",
    "Consider a list of 10 elements. Print all the elements in the list which are greater than 7 when that\n",
    "number is divided 2."
   ]
  },
  {
   "cell_type": "code",
   "execution_count": null,
   "metadata": {},
   "outputs": [],
   "source": [
    "import random\n",
    "rndlst = []\n",
    "rndlst = random.sample(range(0, 30), 10)\n",
    "print(rndlst)\n",
    "print(\"Elements which are greater than 7 after divide by 2:\\n\")\n",
    "for i in rndlst:\n",
    "  j=i//2\n",
    "  if (j>7):\n",
    "    print(\"Element {} which after divide by 2 become {} at index {}\".format(i,j,rndlst.index(i)))"
   ]
  }
 ],
 "metadata": {
  "kernelspec": {
   "display_name": "Python 3",
   "language": "python",
   "name": "python3"
  },
  "language_info": {
   "codemirror_mode": {
    "name": "ipython",
    "version": 3
   },
   "file_extension": ".py",
   "mimetype": "text/x-python",
   "name": "python",
   "nbconvert_exporter": "python",
   "pygments_lexer": "ipython3",
   "version": "3.8.3"
  }
 },
 "nbformat": 4,
 "nbformat_minor": 4
}
