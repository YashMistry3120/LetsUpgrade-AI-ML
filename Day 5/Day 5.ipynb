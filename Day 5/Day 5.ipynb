{
 "cells": [
  {
   "cell_type": "markdown",
   "metadata": {},
   "source": [
    "# Question 1\n",
    "Write a Python program to find the first 20 non-even prime natural numbers."
   ]
  },
  {
   "cell_type": "code",
   "execution_count": 1,
   "metadata": {},
   "outputs": [
    {
     "name": "stdout",
     "output_type": "stream",
     "text": [
      "Enter how many prime number want: 20\n",
      "3 5 7 11 13 17 19 23 29 31 37 41 43 47 53 59 61 67 71 73 "
     ]
    }
   ],
   "source": [
    "def next_Prime(n): # this function will return next prime number after n\n",
    "  while True: # always check untill not return the number or break\n",
    "    n+=2\n",
    "    for i in range(3,n):  #start from 2 to n-1(n is input number)\n",
    "      if n%i == 0:  #check until not find next prime e.g. from 2 to n own number\n",
    "        break # break if number is not prime and go back to for loop\n",
    "    else:\n",
    "      return n # prime number found\n",
    "def prime_Generator(N): #this function will generate prime number upto N\n",
    "  num,count = 1,1\n",
    "  while count <= N: #counter will check from 1 to Nth number\n",
    "    num = next_Prime(num) # call next_Prime function to check next prime\n",
    "    yield num #Save fuction state like suppose if num value is currently is 2 then when its back from next_Prime function its check from previous state\n",
    "    count+=1  # increment counter by 1\n",
    "\n",
    "ip = int(input(\"Enter how many prime number want: \"))\n",
    "l = [x for x in prime_Generator(ip)]  # program start from above input line and ip is take how many number we want and this for loop store first \"ip\" number in l list\n",
    "for i in l: #print list's element\n",
    "  print(i,end=\" \")"
   ]
  },
  {
   "cell_type": "markdown",
   "metadata": {},
   "source": [
    "# Question 2\n",
    "Write a Python program to implement 15 functions of string."
   ]
  },
  {
   "cell_type": "code",
   "execution_count": 2,
   "metadata": {},
   "outputs": [
    {
     "name": "stdout",
     "output_type": "stream",
     "text": [
      "Enter string: Yash3120\n",
      "Yash3120\n",
      "yash3120\n",
      "-----------Yash3120-----------\n",
      "True\n",
      "False\n",
      "False\n",
      "False\n",
      "yash3120\n",
      "False\n",
      "YASH3120\n",
      "Yash3120\n",
      "Yesh3120\n",
      "1\n",
      "Yash3120\n",
      "False\n"
     ]
    }
   ],
   "source": [
    "def str_fun(s1):\n",
    "    print(s1.capitalize())\n",
    "    print(s1.casefold())\n",
    "    print(s1.center(30,\"-\"))\n",
    "    print(s1.isalnum())\n",
    "    print(s1.isalpha())\n",
    "    print(s1.isnumeric())\n",
    "    print(s1.islower())\n",
    "    print(s1.lower())\n",
    "    print(s1.isupper())\n",
    "    print(s1.upper())\n",
    "    print(s1.title())\n",
    "    print(s1.replace(\"a\",\"e\"))\n",
    "    print(s1.count(\"a\"))\n",
    "    print(s1.strip())\n",
    "    print(s1.isdigit())\n",
    "    \n",
    "s1 = str(input(\"Enter string: \"))\n",
    "str_fun(s1)"
   ]
  },
  {
   "cell_type": "markdown",
   "metadata": {},
   "source": [
    "# Question 3\n",
    "Write a Python program to check if the given string is a Palindrome or Anagram or None of them.\n",
    "Display the message accordingly to the user."
   ]
  },
  {
   "cell_type": "code",
   "execution_count": 21,
   "metadata": {},
   "outputs": [
    {
     "name": "stdout",
     "output_type": "stream",
     "text": [
      "Enter string 1st: madam\n",
      "Enter string 2st: \n",
      "String is palindrome\n"
     ]
    }
   ],
   "source": [
    "def ck_str(s1,s2=None):\n",
    "  if s1 == s1[::-1]:\n",
    "    print(\"String is palindrome\")\n",
    "  elif sorted(s1)== sorted(s2):\n",
    "    print(\"String is Anagram\")\n",
    "  else:\n",
    "    print(\"String is none of both\")\n",
    "s1 = str(input(\"Enter string 1st: \"))\n",
    "s2 = str(input(\"Enter string 2st: \"))\n",
    "ck_str(s1,s2)"
   ]
  },
  {
   "cell_type": "markdown",
   "metadata": {},
   "source": [
    "# Question 4\n",
    "Write a Python's user defined function that removes all the additional characters from the string\n",
    "and converts it finally to lower case using built-in lower(). eg: If the string is \"Dr. Darshan Ingle\n",
    "@AI-ML Trainer\", then the output be \"drdarshaningle aimltrainer\"."
   ]
  },
  {
   "cell_type": "code",
   "execution_count": 22,
   "metadata": {},
   "outputs": [
    {
     "name": "stdout",
     "output_type": "stream",
     "text": [
      "Enter string: Y@sh Mistry? (Nikhil)\n",
      "yshmistrynikhil\n"
     ]
    }
   ],
   "source": [
    "def remove_Str(s):\n",
    "  characters_to_remove = \" .!@-_?'():[/\\]|{};*&^%#$\"\n",
    "  new_s = s\n",
    "  for char in characters_to_remove:\n",
    "    new_s = new_s.lower().replace(char,\"\")\n",
    "  print(new_s)\n",
    "s = str(input(\"Enter string: \"))\n",
    "remove_Str(s)"
   ]
  },
  {
   "cell_type": "code",
   "execution_count": null,
   "metadata": {},
   "outputs": [],
   "source": []
  }
 ],
 "metadata": {
  "kernelspec": {
   "display_name": "Python 3",
   "language": "python",
   "name": "python3"
  },
  "language_info": {
   "codemirror_mode": {
    "name": "ipython",
    "version": 3
   },
   "file_extension": ".py",
   "mimetype": "text/x-python",
   "name": "python",
   "nbconvert_exporter": "python",
   "pygments_lexer": "ipython3",
   "version": "3.8.3"
  }
 },
 "nbformat": 4,
 "nbformat_minor": 4
}
