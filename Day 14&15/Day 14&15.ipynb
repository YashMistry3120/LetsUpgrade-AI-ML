{
 "cells": [
  {
   "cell_type": "code",
   "execution_count": 1,
   "metadata": {},
   "outputs": [],
   "source": [
    "import numpy as np\n",
    "import matplotlib.pyplot as plt"
   ]
  },
  {
   "cell_type": "markdown",
   "metadata": {},
   "source": [
    "# 1. Create a 3x3x3 array with random values "
   ]
  },
  {
   "cell_type": "code",
   "execution_count": 2,
   "metadata": {},
   "outputs": [
    {
     "data": {
      "text/plain": [
       "array([[[446, 428, 272],\n",
       "        [126, 315, 180],\n",
       "        [396, 110, 439]],\n",
       "\n",
       "       [[297, 189, 237],\n",
       "        [384, 272, 221],\n",
       "        [489, 345, 416]],\n",
       "\n",
       "       [[144, 335, 121],\n",
       "        [376, 233, 377],\n",
       "        [488, 178, 455]]])"
      ]
     },
     "execution_count": 2,
     "metadata": {},
     "output_type": "execute_result"
    }
   ],
   "source": [
    "np.random.randint(100,500,size=(3,3,3))"
   ]
  },
  {
   "cell_type": "markdown",
   "metadata": {},
   "source": [
    "# 2.Create a 5x5 matrix with values 1,2,3,4 just below the diagonal"
   ]
  },
  {
   "cell_type": "code",
   "execution_count": 3,
   "metadata": {},
   "outputs": [
    {
     "name": "stdout",
     "output_type": "stream",
     "text": [
      "[[0 0 0 0 0]\n",
      " [0 1 0 0 0]\n",
      " [0 0 2 0 0]\n",
      " [0 0 0 3 0]\n",
      " [0 0 0 0 4]]\n"
     ]
    }
   ],
   "source": [
    "x=np.diag([0,1,2,3,4])\n",
    "print(x)"
   ]
  },
  {
   "cell_type": "markdown",
   "metadata": {},
   "source": [
    "# 3.Create a 8x8 matrix and fill it with a checkerboard pattern"
   ]
  },
  {
   "cell_type": "code",
   "execution_count": 4,
   "metadata": {},
   "outputs": [
    {
     "name": "stdout",
     "output_type": "stream",
     "text": [
      "[[0 0 0 0 0 0 0 0]\n",
      " [0 0 0 0 0 0 0 0]\n",
      " [0 0 0 0 0 0 0 0]\n",
      " [0 0 0 0 0 0 0 0]\n",
      " [0 0 0 0 0 0 0 0]\n",
      " [0 0 0 0 0 0 0 0]\n",
      " [0 0 0 0 0 0 0 0]\n",
      " [0 0 0 0 0 0 0 0]]\n",
      "-------------------\n",
      "[[0 0 0 0 0 0 0 0]\n",
      " [1 0 1 0 1 0 1 0]\n",
      " [0 0 0 0 0 0 0 0]\n",
      " [1 0 1 0 1 0 1 0]\n",
      " [0 0 0 0 0 0 0 0]\n",
      " [1 0 1 0 1 0 1 0]\n",
      " [0 0 0 0 0 0 0 0]\n",
      " [1 0 1 0 1 0 1 0]]\n",
      "-------------------\n",
      "[[0 1 0 1 0 1 0 1]\n",
      " [1 0 1 0 1 0 1 0]\n",
      " [0 1 0 1 0 1 0 1]\n",
      " [1 0 1 0 1 0 1 0]\n",
      " [0 1 0 1 0 1 0 1]\n",
      " [1 0 1 0 1 0 1 0]\n",
      " [0 1 0 1 0 1 0 1]\n",
      " [1 0 1 0 1 0 1 0]]\n"
     ]
    },
    {
     "data": {
      "text/plain": [
       "<matplotlib.image.AxesImage at 0x27633c86308>"
      ]
     },
     "execution_count": 4,
     "metadata": {},
     "output_type": "execute_result"
    },
    {
     "data": {
      "image/png": "[encoded data removed]",
      "text/plain": [
       "<Figure size 432x288 with 1 Axes>"
      ]
     },
     "metadata": {
      "needs_background": "light"
     },
     "output_type": "display_data"
    }
   ],
   "source": [
    "x = np.zeros((8,8),dtype= int)\n",
    "print(x)\n",
    "print('-------------------')\n",
    "x[1::2,0::2]=1\n",
    "print(x)\n",
    "print('-------------------')\n",
    "x[0::2,1::2]=1\n",
    "print(x)\n",
    "# for i in range(0,8,2):\n",
    "#     for j in range(0,8,2):\n",
    "#         arr1[i,j] = 1\n",
    "        \n",
    "# for i in range(1,8,2):\n",
    "#     for j in range(1,8,2):\n",
    "#         arr1[i,j] = 1\n",
    "        \n",
    "# print(arr1)\n",
    "#Next thing is just for fun, not related to question\n",
    "plt.imshow(x,cmap='binary')"
   ]
  },
  {
   "cell_type": "markdown",
   "metadata": {},
   "source": [
    "# 4. Normalize a 5x5 random matrix"
   ]
  },
  {
   "cell_type": "code",
   "execution_count": 5,
   "metadata": {},
   "outputs": [
    {
     "name": "stdout",
     "output_type": "stream",
     "text": [
      "Original Array:\n",
      "[[0.28706089 0.72963842 0.31563884]\n",
      " [0.70725981 0.32826884 0.06597069]\n",
      " [0.81306986 0.17089942 0.78298398]]\n",
      "After normalization:\n",
      "[[0.29593153 0.88832614 0.33418342]\n",
      " [0.85837215 0.35108881 0.        ]\n",
      " [1.         0.1404482  0.95972974]]\n"
     ]
    }
   ],
   "source": [
    "x= np.random.random((3,3))\n",
    "print(\"Original Array:\")\n",
    "print(x)\n",
    "xmax, xmin = x.max(), x.min()\n",
    "x = (x - xmin)/(xmax - xmin)\n",
    "print(\"After normalization:\")\n",
    "print(x)"
   ]
  },
  {
   "cell_type": "markdown",
   "metadata": {},
   "source": [
    "# 5.  How to find common values between two arrays?"
   ]
  },
  {
   "cell_type": "code",
   "execution_count": 6,
   "metadata": {},
   "outputs": [
    {
     "name": "stdout",
     "output_type": "stream",
     "text": [
      "Matrix A:  [2 1 0 4 2 8 7 3 2 7]\n",
      "Matrix B:  [5 8 3 1 1 1 2 4 3 7]\n",
      "Common values: [1 2 3 4 7 8]\n"
     ]
    }
   ],
   "source": [
    "a = np.random.randint(10,size=(10))\n",
    "b = np.random.randint(10,size=(10))\n",
    "print('Matrix A: ',a)\n",
    "print('Matrix B: ',b)\n",
    "print('Common values:',np.intersect1d(a,b))"
   ]
  },
  {
   "cell_type": "markdown",
   "metadata": {},
   "source": [
    "# 6.How to get the dates of yesterday, today and tomorrow?"
   ]
  },
  {
   "cell_type": "code",
   "execution_count": 7,
   "metadata": {},
   "outputs": [
    {
     "name": "stdout",
     "output_type": "stream",
     "text": [
      "Yesterday:  2020-07-27\n",
      "Today:  2020-07-28\n",
      "Tomorrow:  2020-07-29\n"
     ]
    }
   ],
   "source": [
    "import datetime as dt\n",
    "\n",
    "today = dt.date.today()\n",
    "yesterday = today - dt.timedelta(days = 1)\n",
    "tomorrow = today + dt.timedelta(days = 1) \n",
    "\n",
    "print('Yesterday: ',yesterday)\n",
    "print('Today: ', today)\n",
    "print('Tomorrow: ', tomorrow)\n",
    "\n",
    "\n",
    "# yesterday = np.datetime64('today') - np.timedelta64(1)\n",
    "# today     = np.datetime64('today')\n",
    "# tomorrow  = np.datetime64('today') + np.timedelta64(1)\n",
    "# print(yesterday, today, tomorrow)"
   ]
  },
  {
   "cell_type": "markdown",
   "metadata": {},
   "source": [
    "# 7. Consider two random array A and B, check if they are equal"
   ]
  },
  {
   "cell_type": "code",
   "execution_count": 8,
   "metadata": {},
   "outputs": [
    {
     "name": "stdout",
     "output_type": "stream",
     "text": [
      "Array1:\n",
      "[[0.95870839 0.14753627 0.50970462]\n",
      " [0.10165807 0.32913324 0.14883585]\n",
      " [0.68108015 0.56939671 0.48035196]]\n",
      "\n",
      "\n",
      "Array2:\n",
      "[[0.88249339 0.3181717  0.56528677]\n",
      " [0.45685645 0.6486679  0.70376206]\n",
      " [0.6250178  0.42769452 0.25538972]]\n",
      "\n",
      "\n",
      "Equality: False\n"
     ]
    }
   ],
   "source": [
    "arr1 = np.random.rand(3,3)\n",
    "arr2 = np.random.rand(3,3)\n",
    "\n",
    "equal = np.array_equal(arr1,arr2)\n",
    "print(f'Array1:\\n{arr1}\\n\\n')\n",
    "print(f'Array2:\\n{arr2}\\n\\n')\n",
    "print(f'Equality: {equal}')\n",
    "\n",
    "# A = np.random.randint(0,10, size=(3,3))\n",
    "# B = np.random.randint(0,10, size=(3,3))\n",
    "\n",
    "# np.allclose(A,B)"
   ]
  },
  {
   "cell_type": "markdown",
   "metadata": {},
   "source": [
    "# 8.Create random vector of size 10 and replace the maximum value by 0 "
   ]
  },
  {
   "cell_type": "code",
   "execution_count": 9,
   "metadata": {},
   "outputs": [
    {
     "name": "stdout",
     "output_type": "stream",
     "text": [
      "[21 66 49 25 70 29 57 43 17 37]\n",
      "Max No:  70\n",
      "(array([4], dtype=int64),)\n",
      "[21 66 49 25  0 29 57 43 17 37]\n"
     ]
    }
   ],
   "source": [
    "randnums= np.random.randint(1,100,10)\n",
    "print(randnums)\n",
    "randnums_max = randnums.max()\n",
    "print(\"Max No: \",randnums_max)\n",
    "ind = np.where(randnums_max == randnums)\n",
    "print(ind)\n",
    "randnums[ind] = 0\n",
    "print(randnums)\n",
    "\n",
    "# mat = np.random.randint(10,size=(10))\n",
    "# print(\"Random Matrix\")\n",
    "# print(mat)\n",
    "# print(\"After Replacing Max value by 0\")\n",
    "# print(\"Maximum value :\",np.amax(mat))\n",
    "# print(np.where(mat ==np.amax(mat),0,mat))"
   ]
  },
  {
   "cell_type": "markdown",
   "metadata": {},
   "source": [
    "# 9. How to print all the values of an array?"
   ]
  },
  {
   "cell_type": "code",
   "execution_count": 10,
   "metadata": {},
   "outputs": [
    {
     "name": "stdout",
     "output_type": "stream",
     "text": [
      "[[8 5 6]\n",
      " [5 4 9]\n",
      " [1 9 7]]\n",
      "\\\\ All Values of array //\n",
      "8 5 6 5 4 9 1 9 7 "
     ]
    }
   ],
   "source": [
    "arr = np.random.randint(10,size=(3,3))\n",
    "print(arr)\n",
    "print(\"\\\\\\ All Values of array //\")\n",
    "for i in range(0,len(arr)):\n",
    "    for j in range(arr.shape[1]):\n",
    "        print(arr[i][j],end=' ')"
   ]
  },
  {
   "cell_type": "markdown",
   "metadata": {},
   "source": [
    "# 10.Subtract the mean of each row of a matrix"
   ]
  },
  {
   "cell_type": "code",
   "execution_count": 11,
   "metadata": {},
   "outputs": [
    {
     "name": "stdout",
     "output_type": "stream",
     "text": [
      "[[3 1 4]\n",
      " [1 5 9]\n",
      " [2 6 5]]\n",
      "[2.66666667 5.         4.33333333]\n",
      "After Sub: \n",
      " [[ 0.33333333 -4.         -0.33333333]\n",
      " [-1.66666667  0.          4.66666667]\n",
      " [-0.66666667  1.          0.66666667]]\n",
      "--------------------------------------------------------------------------------------\n",
      "Initial Array:\n",
      " [[  1 100   0   0]\n",
      " [  2 110   0   0]\n",
      " [  3 120   0   0]]\n",
      "Mean of Each row:  [25.25 28.   30.75]\n",
      "\n",
      "Resultant Matrix After Subtracting Mean:\n",
      " [[-24.25  74.75 -25.25 -25.25]\n",
      " [-26.    82.   -28.   -28.  ]\n",
      " [-27.75  89.25 -30.75 -30.75]]\n"
     ]
    }
   ],
   "source": [
    "arr = np.array([[3, 1, 4], [1, 5, 9], [2, 6, 5]])\n",
    "print(arr)\n",
    "row_means = np.mean(arr, axis=1)\n",
    "print(row_means)\n",
    "print(\"After Sub: \\n\",arr-row_means)\n",
    "print('--------------------------------------------------------------------------------------')\n",
    "arr = np.array([[1, 100, 0, 0], [2, 110, 0, 0], [3, 120, 0, 0]])\n",
    "print('Initial Array:\\n', arr)\n",
    "print('Mean of Each row: ',arr.mean(axis=1))\n",
    "mean = arr - arr.mean(axis=1, keepdims=True) \n",
    "print('\\nResultant Matrix After Subtracting Mean:\\n',mean)\n",
    "# a = np.random.randint(10,size=(2,2))\n",
    "# print(\"Array:\\n\",a)\n",
    "# a_mean=a.mean()\n",
    "# print(\"Mean: \\n\",a_mean)\n",
    "# a_after_sub = a - a_mean\n",
    "# print(\"After sub:\\n\",a_after_sub)\n",
    "# a_mean=a.mean(axis=1,keepdims=True)\n",
    "# print(\"Mean: \\n\",a_mean)\n",
    "# a_after_sub_row = a -a_mean\n",
    "# print(\"After row sub:\\n\",a_after_sub_row)"
   ]
  },
  {
   "cell_type": "markdown",
   "metadata": {},
   "source": [
    "# 11.Consider a given vector, how to add 1 to each element indexed by a second vector (be careful with repeated indices)? "
   ]
  },
  {
   "cell_type": "code",
   "execution_count": 12,
   "metadata": {},
   "outputs": [
    {
     "data": {
      "text/plain": [
       "array([69, 86, 46, 66, 50])"
      ]
     },
     "execution_count": 12,
     "metadata": {},
     "output_type": "execute_result"
    }
   ],
   "source": [
    "arr1 = np.random.randint(10,100,5)\n",
    "arr1"
   ]
  },
  {
   "cell_type": "code",
   "execution_count": 13,
   "metadata": {},
   "outputs": [
    {
     "data": {
      "text/plain": [
       "array([87, 70, 67, 51, 47])"
      ]
     },
     "execution_count": 13,
     "metadata": {},
     "output_type": "execute_result"
    }
   ],
   "source": [
    "v = [1,0,3,4,2]\n",
    "\n",
    "arr = arr1[v]+1\n",
    "arr"
   ]
  },
  {
   "cell_type": "markdown",
   "metadata": {},
   "source": [
    "# 12.How to get the diagonal of a dot product?"
   ]
  },
  {
   "cell_type": "code",
   "execution_count": 14,
   "metadata": {},
   "outputs": [
    {
     "name": "stdout",
     "output_type": "stream",
     "text": [
      "A:\n",
      " [[4 3 9]\n",
      " [6 3 0]\n",
      " [6 6 8]] \n",
      "B:\n",
      " [[3 9 1]\n",
      " [5 4 8]\n",
      " [5 8 5]]\n",
      "Dot product Matrix \n",
      "\n",
      "[[ 72 120  73]\n",
      " [ 33  66  30]\n",
      " [ 88 142  94]]\n",
      "\n",
      "Diagonal\n",
      "\n",
      "[72 66 94]\n"
     ]
    }
   ],
   "source": [
    "A = np.random.randint(0,10,(3,3))\n",
    "B= np.random.randint(0,10,(3,3))\n",
    "print(\"A:\\n\",A,\"\\nB:\\n\",B)\n",
    "ab = np.dot(A, B)\n",
    "print(\"Dot product Matrix \\n\")\n",
    "print(ab)\n",
    "print()\n",
    "print(\"Diagonal\\n\")\n",
    "print(np.diag(ab))"
   ]
  },
  {
   "cell_type": "markdown",
   "metadata": {},
   "source": [
    "# 13.How to find the most frequent value in an array?"
   ]
  },
  {
   "cell_type": "code",
   "execution_count": 15,
   "metadata": {},
   "outputs": [
    {
     "name": "stdout",
     "output_type": "stream",
     "text": [
      "[30 33  9 68 65 24 46 27  6 56 72 64 89 51 92 58 45 78 17 31 29 43  0 11\n",
      " 35 34 37 76  4 65 38 68 85 26 68 23 27 31 96 63 73 58 98 66 36 61 30  0\n",
      " 39  7 64  9 80  3 17 48 75 57 87 45 22 52  9  8 90 51 95 86  4  5  4 13\n",
      " 61 22 66 33 59  7 64 18 91 35 36 95 43 88 41 98 87 68 17 59 85 13 94 39\n",
      " 18 85 73 19]\n",
      "Frequent Number: 68\n"
     ]
    }
   ],
   "source": [
    "m = np.random.randint(0,100,100)\n",
    "print (m)\n",
    "print('Frequent Number:', np.bincount(m).argmax())"
   ]
  },
  {
   "cell_type": "markdown",
   "metadata": {},
   "source": [
    "# 14.How to get the n largest values of an array"
   ]
  },
  {
   "cell_type": "code",
   "execution_count": 16,
   "metadata": {},
   "outputs": [
    {
     "name": "stdout",
     "output_type": "stream",
     "text": [
      "Enter the value of n: 4\n",
      "4 Largest values in array:  [96 97 98 99]\n"
     ]
    }
   ],
   "source": [
    "Z = np.arange(100)\n",
    "np.random.shuffle(Z)\n",
    "n = int(input('Enter the value of n: '))\n",
    "print(f\"{n} Largest values in array: \", Z[np.argsort(Z)[-n:]])"
   ]
  },
  {
   "cell_type": "markdown",
   "metadata": {},
   "source": [
    "# 15.How to create a record array from a regular array?"
   ]
  },
  {
   "cell_type": "code",
   "execution_count": 17,
   "metadata": {},
   "outputs": [
    {
     "name": "stdout",
     "output_type": "stream",
     "text": [
      "[(1, 'a', 1.1) (2, 'dd', 2.2) (3, 'xyz', 3.3) (4, '12', 4.4)]\n"
     ]
    }
   ],
   "source": [
    "x1=np.array([1,2,3,4])\n",
    "x2=np.array(['a','dd','xyz','12'])\n",
    "x3=np.array([1.1,2.2,3.3,4.4])\n",
    "r = np.core.records.fromarrays([x1,x2,x3],names='a,b,c')\n",
    "print(r)"
   ]
  }
 ],
 "metadata": {
  "kernelspec": {
   "display_name": "Python 3",
   "language": "python",
   "name": "python3"
  },
  "language_info": {
   "codemirror_mode": {
    "name": "ipython",
    "version": 3
   },
   "file_extension": ".py",
   "mimetype": "text/x-python",
   "name": "python",
   "nbconvert_exporter": "python",
   "pygments_lexer": "ipython3",
   "version": "3.7.7"
  },
  "latex_envs": {
   "LaTeX_envs_menu_present": true,
   "autoclose": false,
   "autocomplete": true,
   "bibliofile": "biblio.bib",
   "cite_by": "apalike",
   "current_citInitial": 1,
   "eqLabelWithNumbers": true,
   "eqNumInitial": 1,
   "hotkeys": {
    "equation": "Ctrl-E",
    "itemize": "Ctrl-I"
   },
   "labels_anchors": false,
   "latex_user_defs": false,
   "report_style_numbering": false,
   "user_envs_cfg": false
  }
 },
 "nbformat": 4,
 "nbformat_minor": 2
}
