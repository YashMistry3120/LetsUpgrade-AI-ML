{
 "cells": [
  {
   "cell_type": "markdown",
   "metadata": {
    "heading_collapsed": true
   },
   "source": [
    "## Question 1: \n",
    "Assuming that we have some email addresses in the \"username@companyname.com\" format, please write program to print the company name of a given email address. Both user names and company names are composed of letters only."
   ]
  },
  {
   "cell_type": "code",
   "execution_count": 1,
   "metadata": {
    "ExecuteTime": {
     "end_time": "2020-07-14T02:33:05.861440Z",
     "start_time": "2020-07-14T02:33:05.845432Z"
    },
    "hidden": true
   },
   "outputs": [
    {
     "name": "stdout",
     "output_type": "stream",
     "text": [
      "Company Name from yash@google.com : google\n"
     ]
    }
   ],
   "source": [
    "mail_id = 'yash@google.com'\n",
    "\n",
    "for k in range(len(mail_id)):\n",
    "    if mail_id[k] == '@':\n",
    "        company_name = mail_id[k+1 : mail_id.index('.')]\n",
    "        print(f'Company Name from {mail_id} : {company_name}')"
   ]
  },
  {
   "cell_type": "markdown",
   "metadata": {
    "heading_collapsed": true
   },
   "source": [
    "## Question 2: \n",
    "Write a program that accepts a comma-separated sequence of words as input and prints the words in a comma separated sequence after sorting them alphabetically."
   ]
  },
  {
   "cell_type": "code",
   "execution_count": 2,
   "metadata": {
    "ExecuteTime": {
     "end_time": "2020-07-14T02:39:58.954669Z",
     "start_time": "2020-07-14T02:39:01.792494Z"
    },
    "hidden": true
   },
   "outputs": [
    {
     "name": "stdout",
     "output_type": "stream",
     "text": [
      "Enter Words separate by comma (,) : mobile,laptop,ps3,ps4,xbox,ipad,pc\n",
      "Alphabetic Order words : ['ipad', 'laptop', 'mobile', 'pc', 'ps3', 'ps4', 'xbox']\n"
     ]
    }
   ],
   "source": [
    "words = input(\"Enter Words separate by comma (,) : \").split(',')\n",
    "sort_words = sorted(words)\n",
    "print(f'Alphabetic Order words : {sort_words}')"
   ]
  },
  {
   "cell_type": "markdown",
   "metadata": {
    "heading_collapsed": true
   },
   "source": [
    "## Question 4 : \n",
    "Given a list of n-1 numbers ranging from 1 to n, your task is to find the missing number. There are no duplicates."
   ]
  },
  {
   "cell_type": "code",
   "execution_count": 6,
   "metadata": {
    "ExecuteTime": {
     "end_time": "2020-07-14T03:34:57.656476Z",
     "start_time": "2020-07-14T03:34:56.228564Z"
    },
    "hidden": true
   },
   "outputs": [
    {
     "name": "stdout",
     "output_type": "stream",
     "text": [
      "Enter Numbers with a range(1-n) Separate by Space (No Duplicates) : 1 2 3 4 5 6 7 8 10 12 13 14 15\n",
      "List of Numbers : [1, 2, 3, 4, 5, 6, 7, 8, 10, 12, 13, 14, 15]\n",
      "Missing Number  : 9\n",
      "Missing Number  : 11\n"
     ]
    }
   ],
   "source": [
    "numbers = input(\"Enter Numbers with a range(1-n) Separate by Space (No Duplicates) : \").split(' ')\n",
    "n_list = []\n",
    "for n in numbers: # loop for converting each element into int\n",
    "    n_list.append(int(n))\n",
    "n_list.sort() # To sort numbers in accending\n",
    "print(f'List of Numbers : {n_list}')\n",
    "\n",
    "counter = 1\n",
    "\n",
    "for num in n_list:\n",
    "    if counter == num:\n",
    "        counter+=1\n",
    "    else:\n",
    "        print(f'Missing Number  : {counter}')\n",
    "        counter+=2"
   ]
  },
  {
   "cell_type": "markdown",
   "metadata": {
    "heading_collapsed": true
   },
   "source": [
    "## Question 5: \n",
    "With a given list L, write a program to print this list L after removing all duplicate values with original order reserved."
   ]
  },
  {
   "cell_type": "code",
   "execution_count": 15,
   "metadata": {
    "ExecuteTime": {
     "end_time": "2020-07-14T03:51:48.228110Z",
     "start_time": "2020-07-14T03:51:41.520849Z"
    },
    "hidden": true
   },
   "outputs": [
    {
     "name": "stdout",
     "output_type": "stream",
     "text": [
      "Enter Numbers Separate by Space : 1 2 3 4 11 2 11 45 20 1 3 6 8\n",
      "List of Numbers : [1, 1, 2, 2, 3, 3, 4, 6, 8, 11, 11, 20, 45]\n",
      "Without Duplicate Numbers : [1, 2, 3, 4, 6, 8, 11, 20, 45] \n"
     ]
    }
   ],
   "source": [
    "numbers = input(\"Enter Numbers Separate by Space : \").split(' ')\n",
    "n_list = []\n",
    "for n in numbers: # loop for converting each element into int\n",
    "    n_list.append(int(n))\n",
    "n_list.sort() # To sort numbers in accending\n",
    "print(f'List of Numbers : {n_list}')\n",
    "\n",
    "print(f'Without Duplicate Numbers : {list(dict.fromkeys(n_list))} ')\n"
   ]
  },
  {
   "cell_type": "code",
   "execution_count": null,
   "metadata": {},
   "outputs": [],
   "source": []
  }
 ],
 "metadata": {
  "hide_input": false,
  "kernelspec": {
   "display_name": "Python 3",
   "language": "python",
   "name": "python3"
  },
  "language_info": {
   "codemirror_mode": {
    "name": "ipython",
    "version": 3
   },
   "file_extension": ".py",
   "mimetype": "text/x-python",
   "name": "python",
   "nbconvert_exporter": "python",
   "pygments_lexer": "ipython3",
   "version": "3.7.7"
  },
  "toc": {
   "base_numbering": 1,
   "nav_menu": {},
   "number_sections": false,
   "sideBar": true,
   "skip_h1_title": false,
   "title_cell": "Table of Contents",
   "title_sidebar": "Contents",
   "toc_cell": false,
   "toc_position": {},
   "toc_section_display": true,
   "toc_window_display": false
  },
  "varInspector": {
   "cols": {
    "lenName": 16,
    "lenType": 16,
    "lenVar": 40
   },
   "kernels_config": {
    "python": {
     "delete_cmd_postfix": "",
     "delete_cmd_prefix": "del ",
     "library": "var_list.py",
     "varRefreshCmd": "print(var_dic_list())"
    },
    "r": {
     "delete_cmd_postfix": ") ",
     "delete_cmd_prefix": "rm(",
     "library": "var_list.r",
     "varRefreshCmd": "cat(var_dic_list()) "
    }
   },
   "types_to_exclude": [
    "module",
    "function",
    "builtin_function_or_method",
    "instance",
    "_Feature"
   ],
   "window_display": false
  }
 },
 "nbformat": 4,
 "nbformat_minor": 4
}
